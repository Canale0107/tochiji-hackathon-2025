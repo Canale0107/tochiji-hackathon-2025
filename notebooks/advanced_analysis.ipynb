{
  "cells": [
    {
      "cell_type": "markdown",
      "metadata": {},
      "source": [
        "# 高度な分析: 予測モデルと地理空間分析\n",
        "\n",
        "このノートブックでは、分煙対策データを使用してより高度な分析を行います。\n",
        "- 時系列予測\n",
        "- 地理空間分析\n",
        "- 機械学習による分類・予測\n"
      ]
    },
    {
      "cell_type": "code",
      "execution_count": null,
      "metadata": {},
      "outputs": [],
      "source": [
        "# 高度な分析用ライブラリのインポート\n",
        "import pandas as pd\n",
        "import numpy as np\n",
        "import matplotlib.pyplot as plt\n",
        "import seaborn as sns\n",
        "import plotly.express as px\n",
        "import plotly.graph_objects as go\n",
        "from sklearn.ensemble import RandomForestRegressor\n",
        "from sklearn.model_selection import train_test_split\n",
        "from sklearn.metrics import mean_squared_error, r2_score\n",
        "import folium\n",
        "from folium.plugins import HeatMap\n",
        "\n",
        "# 日本語フォント設定\n",
        "plt.rcParams['font.family'] = ['DejaVu Sans', 'Hiragino Sans', 'Yu Gothic', 'Meiryo', 'Takao', 'IPAexGothic', 'IPAPGothic', 'VL PGothic', 'Noto Sans CJK JP']\n",
        "\n",
        "# 警告を非表示\n",
        "import warnings\n",
        "warnings.filterwarnings('ignore')\n",
        "\n",
        "%matplotlib inline\n"
      ]
    },
    {
      "cell_type": "markdown",
      "metadata": {},
      "source": [
        "## 時系列予測モデル\n",
        "\n",
        "機械学習を使用して将来の指導件数を予測します。\n"
      ]
    },
    {
      "cell_type": "code",
      "execution_count": null,
      "metadata": {},
      "outputs": [],
      "source": [
        "# データの読み込みと前処理\n",
        "df = pd.read_csv('../data/131130_分煙対策_指導と過料処分の活動実績_1924926636818441489.csv')\n",
        "\n",
        "# 日付関連の特徴量を作成\n",
        "df['日付'] = pd.to_datetime(df[['年度', '月', '日']])\n",
        "df['曜日'] = df['日付'].dt.dayofweek\n",
        "df['月'] = df['日付'].dt.month\n",
        "df['四半期'] = df['日付'].dt.quarter\n",
        "\n",
        "# 路上喫煙指導データのみを抽出\n",
        "smoking_data = df[df['値区分'] == '路上喫煙'].copy()\n",
        "\n",
        "# 日別の集計データを作成\n",
        "daily_summary = smoking_data.groupby('日付').agg({\n",
        "    '値': 'sum',\n",
        "    '曜日': 'first',\n",
        "    '月': 'first',\n",
        "    '四半期': 'first'\n",
        "}).reset_index()\n",
        "\n",
        "print(f\"予測用データ形状: {daily_summary.shape}\")\n",
        "print(f\"期間: {daily_summary['日付'].min()} から {daily_summary['日付'].max()}\")\n",
        "daily_summary.head()\n"
      ]
    }
  ],
  "metadata": {
    "language_info": {
      "name": "python"
    }
  },
  "nbformat": 4,
  "nbformat_minor": 2
}
