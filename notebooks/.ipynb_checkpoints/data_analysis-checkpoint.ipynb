{
 "cells": [
  {
   "cell_type": "markdown",
   "metadata": {},
   "source": [
    "# 渋谷区分煙対策データ分析\n",
    "\n",
    "このノートブックでは、渋谷区の分煙対策指導と過料処分の活動実績データを分析します。\n"
   ]
  },
  {
   "cell_type": "code",
   "execution_count": 1,
   "metadata": {},
   "outputs": [],
   "source": [
    "# 必要なライブラリのインポート\n",
    "import pandas as pd\n",
    "import numpy as np\n",
    "import matplotlib as mpl\n",
    "import matplotlib.pyplot as plt\n",
    "import matplotlib.font_manager as fm\n",
    "import seaborn as sns\n",
    "import plotly.express as px\n",
    "import plotly.graph_objects as go\n",
    "from datetime import datetime\n",
    "\n",
    "# 日本語フォント設定\n",
    "plt.rcParams['font.family'] = ['DejaVu Sans', 'Hiragino Sans', 'Yu Gothic', 'Meiryo', 'Takao', 'IPAexGothic', 'IPAPGothic', 'VL PGothic', 'Noto Sans CJK JP']\n",
    "\n",
    "# プロット設定\n",
    "try:\n",
    "    plt.style.use('seaborn-v0_8')\n",
    "except:\n",
    "    plt.style.use('seaborn')\n",
    "    \n",
    "sns.set_palette(\"husl\")\n",
    "%matplotlib inline\n"
   ]
  },
  {
   "cell_type": "markdown",
   "metadata": {},
   "source": [
    "## データの読み込みと基本情報\n"
   ]
  },
  {
   "cell_type": "code",
   "execution_count": 2,
   "metadata": {},
   "outputs": [
    {
     "name": "stdout",
     "output_type": "stream",
     "text": [
      "データ形状: (2922, 8)\n",
      "\n",
      "列名:\n",
      "['年度', '月', '日', '指導員/啓発員', 'データ種別', '値区分', '値', 'ObjectId']\n",
      "\n",
      "データ型:\n",
      "年度           int64\n",
      "月            int64\n",
      "日            int64\n",
      "指導員/啓発員     object\n",
      "データ種別       object\n",
      "値区分         object\n",
      "値            int64\n",
      "ObjectId     int64\n",
      "dtype: object\n",
      "\n",
      "最初の5行:\n"
     ]
    },
    {
     "data": {
      "text/html": [
       "<div>\n",
       "<style scoped>\n",
       "    .dataframe tbody tr th:only-of-type {\n",
       "        vertical-align: middle;\n",
       "    }\n",
       "\n",
       "    .dataframe tbody tr th {\n",
       "        vertical-align: top;\n",
       "    }\n",
       "\n",
       "    .dataframe thead th {\n",
       "        text-align: right;\n",
       "    }\n",
       "</style>\n",
       "<table border=\"1\" class=\"dataframe\">\n",
       "  <thead>\n",
       "    <tr style=\"text-align: right;\">\n",
       "      <th></th>\n",
       "      <th>年度</th>\n",
       "      <th>月</th>\n",
       "      <th>日</th>\n",
       "      <th>指導員/啓発員</th>\n",
       "      <th>データ種別</th>\n",
       "      <th>値区分</th>\n",
       "      <th>値</th>\n",
       "      <th>ObjectId</th>\n",
       "    </tr>\n",
       "  </thead>\n",
       "  <tbody>\n",
       "    <tr>\n",
       "      <th>0</th>\n",
       "      <td>2020</td>\n",
       "      <td>1</td>\n",
       "      <td>1</td>\n",
       "      <td>分煙対策指導員</td>\n",
       "      <td>指導対象</td>\n",
       "      <td>路上喫煙</td>\n",
       "      <td>0</td>\n",
       "      <td>1</td>\n",
       "    </tr>\n",
       "    <tr>\n",
       "      <th>1</th>\n",
       "      <td>2020</td>\n",
       "      <td>1</td>\n",
       "      <td>1</td>\n",
       "      <td>分煙対策指導員</td>\n",
       "      <td>指導対象</td>\n",
       "      <td>路上喫煙過料</td>\n",
       "      <td>0</td>\n",
       "      <td>2</td>\n",
       "    </tr>\n",
       "    <tr>\n",
       "      <th>2</th>\n",
       "      <td>2020</td>\n",
       "      <td>1</td>\n",
       "      <td>2</td>\n",
       "      <td>分煙対策指導員</td>\n",
       "      <td>指導対象</td>\n",
       "      <td>路上喫煙</td>\n",
       "      <td>0</td>\n",
       "      <td>3</td>\n",
       "    </tr>\n",
       "    <tr>\n",
       "      <th>3</th>\n",
       "      <td>2020</td>\n",
       "      <td>1</td>\n",
       "      <td>2</td>\n",
       "      <td>分煙対策指導員</td>\n",
       "      <td>指導対象</td>\n",
       "      <td>路上喫煙過料</td>\n",
       "      <td>0</td>\n",
       "      <td>4</td>\n",
       "    </tr>\n",
       "    <tr>\n",
       "      <th>4</th>\n",
       "      <td>2020</td>\n",
       "      <td>1</td>\n",
       "      <td>3</td>\n",
       "      <td>分煙対策指導員</td>\n",
       "      <td>指導対象</td>\n",
       "      <td>路上喫煙</td>\n",
       "      <td>0</td>\n",
       "      <td>5</td>\n",
       "    </tr>\n",
       "  </tbody>\n",
       "</table>\n",
       "</div>"
      ],
      "text/plain": [
       "     年度  月  日  指導員/啓発員 データ種別     値区分  値  ObjectId\n",
       "0  2020  1  1  分煙対策指導員  指導対象    路上喫煙  0         1\n",
       "1  2020  1  1  分煙対策指導員  指導対象  路上喫煙過料  0         2\n",
       "2  2020  1  2  分煙対策指導員  指導対象    路上喫煙  0         3\n",
       "3  2020  1  2  分煙対策指導員  指導対象  路上喫煙過料  0         4\n",
       "4  2020  1  3  分煙対策指導員  指導対象    路上喫煙  0         5"
      ]
     },
     "execution_count": 2,
     "metadata": {},
     "output_type": "execute_result"
    }
   ],
   "source": [
    "# CSVファイルの読み込み\n",
    "df = pd.read_csv('../data/131130_分煙対策_指導と過料処分の活動実績_1924926636818441489.csv')\n",
    "\n",
    "# データの基本情報\n",
    "print(\"データ形状:\", df.shape)\n",
    "print(\"\\n列名:\")\n",
    "print(df.columns.tolist())\n",
    "print(\"\\nデータ型:\")\n",
    "print(df.dtypes)\n",
    "print(\"\\n最初の5行:\")\n",
    "df.head()\n"
   ]
  },
  {
   "cell_type": "code",
   "execution_count": 3,
   "metadata": {},
   "outputs": [
    {
     "name": "stdout",
     "output_type": "stream",
     "text": [
      "基本統計情報:\n",
      "                年度            月            日            値     ObjectId\n",
      "count  2922.000000  2922.000000  2922.000000  2922.000000  2922.000000\n",
      "mean   2021.501027     6.522930    15.729637    81.582820  1461.500000\n",
      "std       1.118531     3.449293     8.801598    75.707297   843.653069\n",
      "min    2020.000000     1.000000     1.000000     0.000000     1.000000\n",
      "25%    2021.000000     4.000000     8.000000    18.000000   731.250000\n",
      "50%    2022.000000     7.000000    16.000000    45.000000  1461.500000\n",
      "75%    2023.000000    10.000000    23.000000   146.000000  2191.750000\n",
      "max    2023.000000    12.000000    31.000000   592.000000  2922.000000\n",
      "\n",
      "欠損値の確認:\n",
      "年度          0\n",
      "月           0\n",
      "日           0\n",
      "指導員/啓発員     0\n",
      "データ種別       0\n",
      "値区分         0\n",
      "値           0\n",
      "ObjectId    0\n",
      "dtype: int64\n",
      "\n",
      "各カテゴリの値:\n",
      "指導員/啓発員: ['分煙対策指導員']\n",
      "データ種別: ['指導対象']\n",
      "値区分: ['路上喫煙' '路上喫煙過料']\n"
     ]
    }
   ],
   "source": [
    "# データの統計情報\n",
    "print(\"基本統計情報:\")\n",
    "print(df.describe())\n",
    "\n",
    "print(\"\\n欠損値の確認:\")\n",
    "print(df.isnull().sum())\n",
    "\n",
    "print(\"\\n各カテゴリの値:\")\n",
    "print(\"指導員/啓発員:\", df['指導員/啓発員'].unique())\n",
    "print(\"データ種別:\", df['データ種別'].unique())\n",
    "print(\"値区分:\", df['値区分'].unique())\n"
   ]
  },
  {
   "cell_type": "markdown",
   "metadata": {},
   "source": [
    "## データの前処理\n"
   ]
  },
  {
   "cell_type": "code",
   "execution_count": 4,
   "metadata": {},
   "outputs": [
    {
     "name": "stdout",
     "output_type": "stream",
     "text": [
      "日付範囲: 2020-04-01 00:00:00 から 2024-03-31 00:00:00\n",
      "総期間: 1460 日間\n"
     ]
    },
    {
     "data": {
      "text/html": [
       "<div>\n",
       "<style scoped>\n",
       "    .dataframe tbody tr th:only-of-type {\n",
       "        vertical-align: middle;\n",
       "    }\n",
       "\n",
       "    .dataframe tbody tr th {\n",
       "        vertical-align: top;\n",
       "    }\n",
       "\n",
       "    .dataframe thead th {\n",
       "        text-align: right;\n",
       "    }\n",
       "</style>\n",
       "<table border=\"1\" class=\"dataframe\">\n",
       "  <thead>\n",
       "    <tr style=\"text-align: right;\">\n",
       "      <th></th>\n",
       "      <th>年度</th>\n",
       "      <th>月</th>\n",
       "      <th>日</th>\n",
       "      <th>指導員/啓発員</th>\n",
       "      <th>データ種別</th>\n",
       "      <th>値区分</th>\n",
       "      <th>値</th>\n",
       "      <th>ObjectId</th>\n",
       "      <th>西暦</th>\n",
       "      <th>日付</th>\n",
       "      <th>年月</th>\n",
       "    </tr>\n",
       "  </thead>\n",
       "  <tbody>\n",
       "    <tr>\n",
       "      <th>0</th>\n",
       "      <td>2020</td>\n",
       "      <td>1</td>\n",
       "      <td>1</td>\n",
       "      <td>分煙対策指導員</td>\n",
       "      <td>指導対象</td>\n",
       "      <td>路上喫煙</td>\n",
       "      <td>0</td>\n",
       "      <td>1</td>\n",
       "      <td>2021</td>\n",
       "      <td>2021-01-01</td>\n",
       "      <td>2020-01</td>\n",
       "    </tr>\n",
       "    <tr>\n",
       "      <th>1</th>\n",
       "      <td>2020</td>\n",
       "      <td>1</td>\n",
       "      <td>1</td>\n",
       "      <td>分煙対策指導員</td>\n",
       "      <td>指導対象</td>\n",
       "      <td>路上喫煙過料</td>\n",
       "      <td>0</td>\n",
       "      <td>2</td>\n",
       "      <td>2021</td>\n",
       "      <td>2021-01-01</td>\n",
       "      <td>2020-01</td>\n",
       "    </tr>\n",
       "    <tr>\n",
       "      <th>2</th>\n",
       "      <td>2020</td>\n",
       "      <td>1</td>\n",
       "      <td>2</td>\n",
       "      <td>分煙対策指導員</td>\n",
       "      <td>指導対象</td>\n",
       "      <td>路上喫煙</td>\n",
       "      <td>0</td>\n",
       "      <td>3</td>\n",
       "      <td>2021</td>\n",
       "      <td>2021-01-02</td>\n",
       "      <td>2020-01</td>\n",
       "    </tr>\n",
       "    <tr>\n",
       "      <th>3</th>\n",
       "      <td>2020</td>\n",
       "      <td>1</td>\n",
       "      <td>2</td>\n",
       "      <td>分煙対策指導員</td>\n",
       "      <td>指導対象</td>\n",
       "      <td>路上喫煙過料</td>\n",
       "      <td>0</td>\n",
       "      <td>4</td>\n",
       "      <td>2021</td>\n",
       "      <td>2021-01-02</td>\n",
       "      <td>2020-01</td>\n",
       "    </tr>\n",
       "    <tr>\n",
       "      <th>4</th>\n",
       "      <td>2020</td>\n",
       "      <td>1</td>\n",
       "      <td>3</td>\n",
       "      <td>分煙対策指導員</td>\n",
       "      <td>指導対象</td>\n",
       "      <td>路上喫煙</td>\n",
       "      <td>0</td>\n",
       "      <td>5</td>\n",
       "      <td>2021</td>\n",
       "      <td>2021-01-03</td>\n",
       "      <td>2020-01</td>\n",
       "    </tr>\n",
       "  </tbody>\n",
       "</table>\n",
       "</div>"
      ],
      "text/plain": [
       "     年度  月  日  指導員/啓発員 データ種別     値区分  値  ObjectId    西暦         日付       年月\n",
       "0  2020  1  1  分煙対策指導員  指導対象    路上喫煙  0         1  2021 2021-01-01  2020-01\n",
       "1  2020  1  1  分煙対策指導員  指導対象  路上喫煙過料  0         2  2021 2021-01-01  2020-01\n",
       "2  2020  1  2  分煙対策指導員  指導対象    路上喫煙  0         3  2021 2021-01-02  2020-01\n",
       "3  2020  1  2  分煙対策指導員  指導対象  路上喫煙過料  0         4  2021 2021-01-02  2020-01\n",
       "4  2020  1  3  分煙対策指導員  指導対象    路上喫煙  0         5  2021 2021-01-03  2020-01"
      ]
     },
     "execution_count": 4,
     "metadata": {},
     "output_type": "execute_result"
    }
   ],
   "source": [
    "# 年度から西暦年を算出する関数（1〜3月は翌年にずらす）\n",
    "def fiscal_to_calendar_year(row):\n",
    "    if int(row['月']) <= 3:\n",
    "        return int(row['年度']) + 1\n",
    "    else:\n",
    "        return int(row['年度'])\n",
    "\n",
    "# 西暦年の列を追加\n",
    "df['西暦'] = df.apply(fiscal_to_calendar_year, axis=1)\n",
    "\n",
    "# 日付列の作成（ゼロ埋めしておくと安全）\n",
    "df['日付'] = pd.to_datetime(\n",
    "    df['西暦'].astype(str) + '-' +\n",
    "    df['月'].astype(str).str.zfill(2) + '-' +\n",
    "    df['日'].astype(str).str.zfill(2),\n",
    "    errors='coerce'  # 存在しない日付は NaT に\n",
    ")\n",
    "\n",
    "# 年度と月の組み合わせ（ゼロ埋め）\n",
    "df['年月'] = df['年度'].astype(str) + '-' + df['月'].astype(str).str.zfill(2)\n",
    "\n",
    "# 無効な日付（NaT）を除外する（任意）\n",
    "df = df[df['日付'].notna()]\n",
    "\n",
    "# データの確認\n",
    "print(\"日付範囲:\", df['日付'].min(), \"から\", df['日付'].max())\n",
    "print(\"総期間:\", (df['日付'].max() - df['日付'].min()).days, \"日間\")\n",
    "\n",
    "df.head()"
   ]
  },
  {
   "cell_type": "markdown",
   "metadata": {},
   "source": [
    "## 時系列分析\n"
   ]
  },
  {
   "cell_type": "code",
   "execution_count": 5,
   "metadata": {},
   "outputs": [],
   "source": [
    "# 例: IPAexゴシック（インストール済みの日本語フォントを指定）\n",
    "font_path = \"/System/Library/Fonts/ヒラギノ角ゴシック W3.ttc\"  # フォントファイルのパスを指定\n",
    "font_prop = fm.FontProperties(fname=font_path)\n",
    "mpl.rcParams['font.family'] = font_prop.get_name()"
   ]
  },
  {
   "cell_type": "code",
   "execution_count": 6,
   "metadata": {},
   "outputs": [
    {
     "data": {
      "image/png": "[encoded data removed]",
      "text/plain": [
       "<Figure size 1500x1000 with 2 Axes>"
      ]
     },
     "metadata": {},
     "output_type": "display_data"
    }
   ],
   "source": [
    "# 月別の指導・過料処分件数の推移\n",
    "monthly_data = df.groupby(['年月', '値区分'])['値'].sum().reset_index()\n",
    "monthly_pivot = monthly_data.pivot(index='年月', columns='値区分', values='値').fillna(0)\n",
    "\n",
    "# グラフの作成\n",
    "fig, (ax1, ax2) = plt.subplots(2, 1, figsize=(15, 10))\n",
    "\n",
    "# 路上喫煙指導件数\n",
    "monthly_pivot['路上喫煙'].plot(ax=ax1, marker='o', linewidth=2, markersize=4)\n",
    "ax1.set_title('月別路上喫煙指導件数の推移', fontsize=14, fontweight='bold', fontproperties=font_prop)\n",
    "ax1.set_ylabel('指導件数', fontproperties=font_prop)\n",
    "ax1.grid(True, alpha=0.3)\n",
    "ax1.tick_params(axis='x', rotation=45)\n",
    "\n",
    "# 路上喫煙過料処分件数\n",
    "monthly_pivot['路上喫煙過料'].plot(ax=ax2, marker='s', linewidth=2, markersize=4, color='red')\n",
    "ax2.set_title('月別路上喫煙過料処分件数の推移', fontsize=14, fontweight='bold', fontproperties=font_prop)\n",
    "ax2.set_ylabel('過料処分件数', fontproperties=font_prop)\n",
    "ax2.set_xlabel('年月', fontproperties=font_prop)\n",
    "ax2.grid(True, alpha=0.3)\n",
    "ax2.tick_params(axis='x', rotation=45)\n",
    "\n",
    "plt.tight_layout()\n",
    "plt.show()"
   ]
  },
  {
   "cell_type": "code",
   "execution_count": 7,
   "metadata": {},
   "outputs": [
    {
     "data": {
      "application/vnd.plotly.v1+json": {
       "config": {
        "plotlyServerURL": "https://plot.ly"
       },
       "data": [
        {
         "line": {
          "color": "blue",
          "width": 2
         },
         "marker": {
          "size": 6
         },
         "mode": "lines+markers",
         "name": "路上喫煙指導",
         "type": "scatter",
         "x": [
          "2020-01",
          "2020-02",
          "2020-03",
          "2020-04",
          "2020-05",
          "2020-06",
          "2020-07",
          "2020-08",
          "2020-09",
          "2020-10",
          "2020-11",
          "2020-12",
          "2021-01",
          "2021-02",
          "2021-03",
          "2021-04",
          "2021-05",
          "2021-06",
          "2021-07",
          "2021-08",
          "2021-09",
          "2021-10",
          "2021-11",
          "2021-12",
          "2022-01",
          "2022-02",
          "2022-03",
          "2022-04",
          "2022-05",
          "2022-06",
          "2022-07",
          "2022-08",
          "2022-09",
          "2022-10",
          "2022-11",
          "2022-12",
          "2023-01",
          "2023-02",
          "2023-03",
          "2023-04",
          "2023-05",
          "2023-06",
          "2023-07",
          "2023-08",
          "2023-09",
          "2023-10",
          "2023-11",
          "2023-12"
         ],
         "y": {
          "bdata": "cA0oEiYVVg2lDLcQuxGxDQ4PzQ89De4Pog0xCwMNahOBEGIR1Q8qDXsP1hK9DY0OHBQyE6kWiw6HD3MUYxB2EZsOEBOnE2IRQRGaEfIQ/BO8FKUWmhXkEeQQPRbqE7IT",
          "dtype": "i2"
         }
        },
        {
         "line": {
          "color": "red",
          "width": 2
         },
         "marker": {
          "size": 6
         },
         "mode": "lines+markers",
         "name": "路上喫煙過料処分",
         "type": "scatter",
         "x": [
          "2020-01",
          "2020-02",
          "2020-03",
          "2020-04",
          "2020-05",
          "2020-06",
          "2020-07",
          "2020-08",
          "2020-09",
          "2020-10",
          "2020-11",
          "2020-12",
          "2021-01",
          "2021-02",
          "2021-03",
          "2021-04",
          "2021-05",
          "2021-06",
          "2021-07",
          "2021-08",
          "2021-09",
          "2021-10",
          "2021-11",
          "2021-12",
          "2022-01",
          "2022-02",
          "2022-03",
          "2022-04",
          "2022-05",
          "2022-06",
          "2022-07",
          "2022-08",
          "2022-09",
          "2022-10",
          "2022-11",
          "2022-12",
          "2023-01",
          "2023-02",
          "2023-03",
          "2023-04",
          "2023-05",
          "2023-06",
          "2023-07",
          "2023-08",
          "2023-09",
          "2023-10",
          "2023-11",
          "2023-12"
         ],
         "y": {
          "bdata": "TgAAAAAAFgAAACADVwN7Al4CvAKHAjoChQKPAp0CAAAAAAAAAAAAAAAA3gNbA6QCjwHaASYC6AKdA9sDwgKQAjkCvgFfAugBnAOFBP0EoAI0A90DpgMJA08DjQTZA7MD",
          "dtype": "i2"
         },
         "yaxis": "y2"
        }
       ],
       "layout": {
        "hovermode": "x unified",
        "template": {
         "data": {
          "bar": [
           {
            "error_x": {
             "color": "#2a3f5f"
            },
            "error_y": {
             "color": "#2a3f5f"
            },
            "marker": {
             "line": {
              "color": "white",
              "width": 0.5
             },
             "pattern": {
              "fillmode": "overlay",
              "size": 10,
              "solidity": 0.2
             }
            },
            "type": "bar"
           }
          ],
          "barpolar": [
           {
            "marker": {
             "line": {
              "color": "white",
              "width": 0.5
             },
             "pattern": {
              "fillmode": "overlay",
              "size": 10,
              "solidity": 0.2
             }
            },
            "type": "barpolar"
           }
          ],
          "carpet": [
           {
            "aaxis": {
             "endlinecolor": "#2a3f5f",
             "gridcolor": "#C8D4E3",
             "linecolor": "#C8D4E3",
             "minorgridcolor": "#C8D4E3",
             "startlinecolor": "#2a3f5f"
            },
            "baxis": {
             "endlinecolor": "#2a3f5f",
             "gridcolor": "#C8D4E3",
             "linecolor": "#C8D4E3",
             "minorgridcolor": "#C8D4E3",
             "startlinecolor": "#2a3f5f"
            },
            "type": "carpet"
           }
          ],
          "choropleth": [
           {
            "colorbar": {
             "outlinewidth": 0,
             "ticks": ""
            },
            "type": "choropleth"
           }
          ],
          "contour": [
           {
            "colorbar": {
             "outlinewidth": 0,
             "ticks": ""
            },
            "colorscale": [
             [
              0,
              "#0d0887"
             ],
             [
              0.1111111111111111,
              "#46039f"
             ],
             [
              0.2222222222222222,
              "#7201a8"
             ],
             [
              0.3333333333333333,
              "#9c179e"
             ],
             [
              0.4444444444444444,
              "#bd3786"
             ],
             [
              0.5555555555555556,
              "#d8576b"
             ],
             [
              0.6666666666666666,
              "#ed7953"
             ],
             [
              0.7777777777777778,
              "#fb9f3a"
             ],
             [
              0.8888888888888888,
              "#fdca26"
             ],
             [
              1,
              "#f0f921"
             ]
            ],
            "type": "contour"
           }
          ],
          "contourcarpet": [
           {
            "colorbar": {
             "outlinewidth": 0,
             "ticks": ""
            },
            "type": "contourcarpet"
           }
          ],
          "heatmap": [
           {
            "colorbar": {
             "outlinewidth": 0,
             "ticks": ""
            },
            "colorscale": [
             [
              0,
              "#0d0887"
             ],
             [
              0.1111111111111111,
              "#46039f"
             ],
             [
              0.2222222222222222,
              "#7201a8"
             ],
             [
              0.3333333333333333,
              "#9c179e"
             ],
             [
              0.4444444444444444,
              "#bd3786"
             ],
             [
              0.5555555555555556,
              "#d8576b"
             ],
             [
              0.6666666666666666,
              "#ed7953"
             ],
             [
              0.7777777777777778,
              "#fb9f3a"
             ],
             [
              0.8888888888888888,
              "#fdca26"
             ],
             [
              1,
              "#f0f921"
             ]
            ],
            "type": "heatmap"
           }
          ],
          "histogram": [
           {
            "marker": {
             "pattern": {
              "fillmode": "overlay",
              "size": 10,
              "solidity": 0.2
             }
            },
            "type": "histogram"
           }
          ],
          "histogram2d": [
           {
            "colorbar": {
             "outlinewidth": 0,
             "ticks": ""
            },
            "colorscale": [
             [
              0,
              "#0d0887"
             ],
             [
              0.1111111111111111,
              "#46039f"
             ],
             [
              0.2222222222222222,
              "#7201a8"
             ],
             [
              0.3333333333333333,
              "#9c179e"
             ],
             [
              0.4444444444444444,
              "#bd3786"
             ],
             [
              0.5555555555555556,
              "#d8576b"
             ],
             [
              0.6666666666666666,
              "#ed7953"
             ],
             [
              0.7777777777777778,
              "#fb9f3a"
             ],
             [
              0.8888888888888888,
              "#fdca26"
             ],
             [
              1,
              "#f0f921"
             ]
            ],
            "type": "histogram2d"
           }
          ],
          "histogram2dcontour": [
           {
            "colorbar": {
             "outlinewidth": 0,
             "ticks": ""
            },
            "colorscale": [
             [
              0,
              "#0d0887"
             ],
             [
              0.1111111111111111,
              "#46039f"
             ],
             [
              0.2222222222222222,
              "#7201a8"
             ],
             [
              0.3333333333333333,
              "#9c179e"
             ],
             [
              0.4444444444444444,
              "#bd3786"
             ],
             [
              0.5555555555555556,
              "#d8576b"
             ],
             [
              0.6666666666666666,
              "#ed7953"
             ],
             [
              0.7777777777777778,
              "#fb9f3a"
             ],
             [
              0.8888888888888888,
              "#fdca26"
             ],
             [
              1,
              "#f0f921"
             ]
            ],
            "type": "histogram2dcontour"
           }
          ],
          "mesh3d": [
           {
            "colorbar": {
             "outlinewidth": 0,
             "ticks": ""
            },
            "type": "mesh3d"
           }
          ],
          "parcoords": [
           {
            "line": {
             "colorbar": {
              "outlinewidth": 0,
              "ticks": ""
             }
            },
            "type": "parcoords"
           }
          ],
          "pie": [
           {
            "automargin": true,
            "type": "pie"
           }
          ],
          "scatter": [
           {
            "fillpattern": {
             "fillmode": "overlay",
             "size": 10,
             "solidity": 0.2
            },
            "type": "scatter"
           }
          ],
          "scatter3d": [
           {
            "line": {
             "colorbar": {
              "outlinewidth": 0,
              "ticks": ""
             }
            },
            "marker": {
             "colorbar": {
              "outlinewidth": 0,
              "ticks": ""
             }
            },
            "type": "scatter3d"
           }
          ],
          "scattercarpet": [
           {
            "marker": {
             "colorbar": {
              "outlinewidth": 0,
              "ticks": ""
             }
            },
            "type": "scattercarpet"
           }
          ],
          "scattergeo": [
           {
            "marker": {
             "colorbar": {
              "outlinewidth": 0,
              "ticks": ""
             }
            },
            "type": "scattergeo"
           }
          ],
          "scattergl": [
           {
            "marker": {
             "colorbar": {
              "outlinewidth": 0,
              "ticks": ""
             }
            },
            "type": "scattergl"
           }
          ],
          "scattermap": [
           {
            "marker": {
             "colorbar": {
              "outlinewidth": 0,
              "ticks": ""
             }
            },
            "type": "scattermap"
           }
          ],
          "scattermapbox": [
           {
            "marker": {
             "colorbar": {
              "outlinewidth": 0,
              "ticks": ""
             }
            },
            "type": "scattermapbox"
           }
          ],
          "scatterpolar": [
           {
            "marker": {
             "colorbar": {
              "outlinewidth": 0,
              "ticks": ""
             }
            },
            "type": "scatterpolar"
           }
          ],
          "scatterpolargl": [
           {
            "marker": {
             "colorbar": {
              "outlinewidth": 0,
              "ticks": ""
             }
            },
            "type": "scatterpolargl"
           }
          ],
          "scatterternary": [
           {
            "marker": {
             "colorbar": {
              "outlinewidth": 0,
              "ticks": ""
             }
            },
            "type": "scatterternary"
           }
          ],
          "surface": [
           {
            "colorbar": {
             "outlinewidth": 0,
             "ticks": ""
            },
            "colorscale": [
             [
              0,
              "#0d0887"
             ],
             [
              0.1111111111111111,
              "#46039f"
             ],
             [
              0.2222222222222222,
              "#7201a8"
             ],
             [
              0.3333333333333333,
              "#9c179e"
             ],
             [
              0.4444444444444444,
              "#bd3786"
             ],
             [
              0.5555555555555556,
              "#d8576b"
             ],
             [
              0.6666666666666666,
              "#ed7953"
             ],
             [
              0.7777777777777778,
              "#fb9f3a"
             ],
             [
              0.8888888888888888,
              "#fdca26"
             ],
             [
              1,
              "#f0f921"
             ]
            ],
            "type": "surface"
           }
          ],
          "table": [
           {
            "cells": {
             "fill": {
              "color": "#EBF0F8"
             },
             "line": {
              "color": "white"
             }
            },
            "header": {
             "fill": {
              "color": "#C8D4E3"
             },
             "line": {
              "color": "white"
             }
            },
            "type": "table"
           }
          ]
         },
         "layout": {
          "annotationdefaults": {
           "arrowcolor": "#2a3f5f",
           "arrowhead": 0,
           "arrowwidth": 1
          },
          "autotypenumbers": "strict",
          "coloraxis": {
           "colorbar": {
            "outlinewidth": 0,
            "ticks": ""
           }
          },
          "colorscale": {
           "diverging": [
            [
             0,
             "#8e0152"
            ],
            [
             0.1,
             "#c51b7d"
            ],
            [
             0.2,
             "#de77ae"
            ],
            [
             0.3,
             "#f1b6da"
            ],
            [
             0.4,
             "#fde0ef"
            ],
            [
             0.5,
             "#f7f7f7"
            ],
            [
             0.6,
             "#e6f5d0"
            ],
            [
             0.7,
             "#b8e186"
            ],
            [
             0.8,
             "#7fbc41"
            ],
            [
             0.9,
             "#4d9221"
            ],
            [
             1,
             "#276419"
            ]
           ],
           "sequential": [
            [
             0,
             "#0d0887"
            ],
            [
             0.1111111111111111,
             "#46039f"
            ],
            [
             0.2222222222222222,
             "#7201a8"
            ],
            [
             0.3333333333333333,
             "#9c179e"
            ],
            [
             0.4444444444444444,
             "#bd3786"
            ],
            [
             0.5555555555555556,
             "#d8576b"
            ],
            [
             0.6666666666666666,
             "#ed7953"
            ],
            [
             0.7777777777777778,
             "#fb9f3a"
            ],
            [
             0.8888888888888888,
             "#fdca26"
            ],
            [
             1,
             "#f0f921"
            ]
           ],
           "sequentialminus": [
            [
             0,
             "#0d0887"
            ],
            [
             0.1111111111111111,
             "#46039f"
            ],
            [
             0.2222222222222222,
             "#7201a8"
            ],
            [
             0.3333333333333333,
             "#9c179e"
            ],
            [
             0.4444444444444444,
             "#bd3786"
            ],
            [
             0.5555555555555556,
             "#d8576b"
            ],
            [
             0.6666666666666666,
             "#ed7953"
            ],
            [
             0.7777777777777778,
             "#fb9f3a"
            ],
            [
             0.8888888888888888,
             "#fdca26"
            ],
            [
             1,
             "#f0f921"
            ]
           ]
          },
          "colorway": [
           "#636efa",
           "#EF553B",
           "#00cc96",
           "#ab63fa",
           "#FFA15A",
           "#19d3f3",
           "#FF6692",
           "#B6E880",
           "#FF97FF",
           "#FECB52"
          ],
          "font": {
           "color": "#2a3f5f"
          },
          "geo": {
           "bgcolor": "white",
           "lakecolor": "white",
           "landcolor": "white",
           "showlakes": true,
           "showland": true,
           "subunitcolor": "#C8D4E3"
          },
          "hoverlabel": {
           "align": "left"
          },
          "hovermode": "closest",
          "mapbox": {
           "style": "light"
          },
          "paper_bgcolor": "white",
          "plot_bgcolor": "white",
          "polar": {
           "angularaxis": {
            "gridcolor": "#EBF0F8",
            "linecolor": "#EBF0F8",
            "ticks": ""
           },
           "bgcolor": "white",
           "radialaxis": {
            "gridcolor": "#EBF0F8",
            "linecolor": "#EBF0F8",
            "ticks": ""
           }
          },
          "scene": {
           "xaxis": {
            "backgroundcolor": "white",
            "gridcolor": "#DFE8F3",
            "gridwidth": 2,
            "linecolor": "#EBF0F8",
            "showbackground": true,
            "ticks": "",
            "zerolinecolor": "#EBF0F8"
           },
           "yaxis": {
            "backgroundcolor": "white",
            "gridcolor": "#DFE8F3",
            "gridwidth": 2,
            "linecolor": "#EBF0F8",
            "showbackground": true,
            "ticks": "",
            "zerolinecolor": "#EBF0F8"
           },
           "zaxis": {
            "backgroundcolor": "white",
            "gridcolor": "#DFE8F3",
            "gridwidth": 2,
            "linecolor": "#EBF0F8",
            "showbackground": true,
            "ticks": "",
            "zerolinecolor": "#EBF0F8"
           }
          },
          "shapedefaults": {
           "line": {
            "color": "#2a3f5f"
           }
          },
          "ternary": {
           "aaxis": {
            "gridcolor": "#DFE8F3",
            "linecolor": "#A2B1C6",
            "ticks": ""
           },
           "baxis": {
            "gridcolor": "#DFE8F3",
            "linecolor": "#A2B1C6",
            "ticks": ""
           },
           "bgcolor": "white",
           "caxis": {
            "gridcolor": "#DFE8F3",
            "linecolor": "#A2B1C6",
            "ticks": ""
           }
          },
          "title": {
           "x": 0.05
          },
          "xaxis": {
           "automargin": true,
           "gridcolor": "#EBF0F8",
           "linecolor": "#EBF0F8",
           "ticks": "",
           "title": {
            "standoff": 15
           },
           "zerolinecolor": "#EBF0F8",
           "zerolinewidth": 2
          },
          "yaxis": {
           "automargin": true,
           "gridcolor": "#EBF0F8",
           "linecolor": "#EBF0F8",
           "ticks": "",
           "title": {
            "standoff": 15
           },
           "zerolinecolor": "#EBF0F8",
           "zerolinewidth": 2
          }
         }
        },
        "title": {
         "text": "渋谷区分煙対策活動実績の推移"
        },
        "xaxis": {
         "title": {
          "text": "年月"
         }
        },
        "yaxis": {
         "title": {
          "text": "指導件数"
         }
        },
        "yaxis2": {
         "overlaying": "y",
         "side": "right",
         "title": {
          "text": "過料処分件数"
         }
        }
       }
      },
      "image/png": "[encoded data removed]"
     },
     "metadata": {},
     "output_type": "display_data"
    }
   ],
   "source": [
    "# インタラクティブな時系列グラフ（Plotly）\n",
    "fig = go.Figure()\n",
    "\n",
    "fig.add_trace(go.Scatter(\n",
    "    x=monthly_pivot.index,\n",
    "    y=monthly_pivot['路上喫煙'],\n",
    "    mode='lines+markers',\n",
    "    name='路上喫煙指導',\n",
    "    line=dict(color='blue', width=2),\n",
    "    marker=dict(size=6)\n",
    "))\n",
    "\n",
    "fig.add_trace(go.Scatter(\n",
    "    x=monthly_pivot.index,\n",
    "    y=monthly_pivot['路上喫煙過料'],\n",
    "    mode='lines+markers',\n",
    "    name='路上喫煙過料処分',\n",
    "    line=dict(color='red', width=2),\n",
    "    marker=dict(size=6),\n",
    "    yaxis='y2'\n",
    "))\n",
    "\n",
    "fig.update_layout(\n",
    "    title='渋谷区分煙対策活動実績の推移',\n",
    "    xaxis_title='年月',\n",
    "    yaxis_title='指導件数',\n",
    "    yaxis2=dict(\n",
    "        title='過料処分件数',\n",
    "        overlaying='y',\n",
    "        side='right'\n",
    "    ),\n",
    "    hovermode='x unified',\n",
    "    template='plotly_white'\n",
    ")\n",
    "\n",
    "fig.show()\n"
   ]
  },
  {
   "cell_type": "code",
   "execution_count": 8,
   "metadata": {},
   "outputs": [
    {
     "ename": "NameError",
     "evalue": "name 'daily_df' is not defined",
     "output_type": "error",
     "traceback": [
      "\u001b[0;31m---------------------------------------------------------------------------\u001b[0m",
      "\u001b[0;31mNameError\u001b[0m                                 Traceback (most recent call last)",
      "Cell \u001b[0;32mIn[8], line 2\u001b[0m\n\u001b[1;32m      1\u001b[0m \u001b[38;5;66;03m# 例: '年月日' 列が datetime型、'路上喫煙' と '路上喫煙過料' が件数カラム\u001b[39;00m\n\u001b[0;32m----> 2\u001b[0m daily_df[\u001b[38;5;124m'\u001b[39m\u001b[38;5;124myear\u001b[39m\u001b[38;5;124m'\u001b[39m] \u001b[38;5;241m=\u001b[39m \u001b[43mdaily_df\u001b[49m[\u001b[38;5;124m'\u001b[39m\u001b[38;5;124m年月日\u001b[39m\u001b[38;5;124m'\u001b[39m]\u001b[38;5;241m.\u001b[39mdt\u001b[38;5;241m.\u001b[39myear\n\u001b[1;32m      3\u001b[0m daily_df[\u001b[38;5;124m'\u001b[39m\u001b[38;5;124mmonth_day\u001b[39m\u001b[38;5;124m'\u001b[39m] \u001b[38;5;241m=\u001b[39m daily_df[\u001b[38;5;124m'\u001b[39m\u001b[38;5;124m年月日\u001b[39m\u001b[38;5;124m'\u001b[39m]\u001b[38;5;241m.\u001b[39mdt\u001b[38;5;241m.\u001b[39mstrftime(\u001b[38;5;124m'\u001b[39m\u001b[38;5;124m%\u001b[39m\u001b[38;5;124mm-\u001b[39m\u001b[38;5;132;01m%d\u001b[39;00m\u001b[38;5;124m'\u001b[39m)\n",
      "\u001b[0;31mNameError\u001b[0m: name 'daily_df' is not defined"
     ]
    }
   ],
   "source": [
    "# 例: '年月日' 列が datetime型、'路上喫煙' と '路上喫煙過料' が件数カラム\n",
    "daily_df['year'] = daily_df['年月日'].dt.year\n",
    "daily_df['month_day'] = daily_df['年月日'].dt.strftime('%m-%d')"
   ]
  },
  {
   "cell_type": "code",
   "execution_count": null,
   "metadata": {},
   "outputs": [],
   "source": []
  }
 ],
 "metadata": {
  "kernelspec": {
   "display_name": "Python 3 (ipykernel)",
   "language": "python",
   "name": "python3"
  },
  "language_info": {
   "codemirror_mode": {
    "name": "ipython",
    "version": 3
   },
   "file_extension": ".py",
   "mimetype": "text/x-python",
   "name": "python",
   "nbconvert_exporter": "python",
   "pygments_lexer": "ipython3",
   "version": "3.9.6"
  }
 },
 "nbformat": 4,
 "nbformat_minor": 4
}
